{
 "cells": [
  {
   "cell_type": "code",
   "execution_count": 1,
   "metadata": {},
   "outputs": [],
   "source": [
    "import pybullet as p\n",
    "import time\n",
    "from time import sleep\n",
    "import pybullet_data   #we use this for getting access in pybullet urdf (Universal robot description file) and import them\n",
    "import numpy as np\n",
    "import math\n",
    "import os  #provide function to the interaction with operating system"
   ]
  },
  {
   "cell_type": "code",
   "execution_count": 2,
   "metadata": {},
   "outputs": [],
   "source": [
    "import motorController  #these are the file which have some necessary physics behind the picture which we will in \n",
    "import walkGenerator    # front end like we will see the stable walking of biped in frontend but what is going on\n",
    "                        #in backend of the motorController we will it in these files"
   ]
  },
  {
   "cell_type": "code",
   "execution_count": 3,
   "metadata": {},
   "outputs": [],
   "source": [
    "#for controlling the motor for reducing the error we will close loop control system. so here we are using pd contro\n",
    "# controller for it. \n",
    "# PD controller is (propotional derivative controller we use it when the chance of the external disturbance is less\n",
    "#or neglegible we will use it. If there is the external disturbance is also there then we will use pid controller)."
   ]
  },
  {
   "cell_type": "code",
   "execution_count": 4,
   "metadata": {},
   "outputs": [],
   "source": [
    "# constant parameter of pd controller\n",
    "motor_kp = 0.5  # PD controlle is bad controller, because controller should be generic but here we are tunning \n",
    "motor_kd = 0.5   # the kp and kd parameter other wise it is good in case of no external disturbance.\n",
    "motor_torque = 2  # torque of motor give how much it will rotate the motor. unit is Newton-meter. \n",
    "motor_max_velocity = 10.0 #motor will rotate with this speed"
   ]
  },
  {
   "cell_type": "code",
   "execution_count": 5,
   "metadata": {},
   "outputs": [],
   "source": [
    "fixedTimeStep = 1. / 1000\n",
    "numSolverIterations = 200"
   ]
  },
  {
   "cell_type": "code",
   "execution_count": 6,
   "metadata": {},
   "outputs": [],
   "source": [
    "#physic set of the simulation environment.\n",
    "physicsClient = p.connect(p.GUI)\n",
    "p.setTimeStep(timeStep=fixedTimeStep, physicsClientId=physicsClient)\n",
    "p.setPhysicsEngineParameter(numSolverIterations = numSolverIterations)\n",
    "p.setAdditionalSearchPath(pybullet_data.getDataPath())"
   ]
  },
  {
   "cell_type": "code",
   "execution_count": 7,
   "metadata": {},
   "outputs": [],
   "source": [
    "p.setGravity(0, 0, 0)\n",
    "p.resetDebugVisualizerCamera(cameraDistance=1, cameraYaw=10, cameraPitch=-5, cameraTargetPosition=[0.3, 0.5, 0.1], physicsClientId=physicsClient)\n",
    "planeId = p.loadSDF('stadium.sdf')  # can load p.loadURDF('samurai.urdf') or p.loadURDF('plane.urdf')"
   ]
  },
  {
   "cell_type": "code",
   "execution_count": 8,
   "metadata": {},
   "outputs": [],
   "source": [
    "#add the biped robot at the plane.\n",
    "robot = p.loadURDF('humanoid_leg_12dof.8.urdf', [0, 0, 0.31],\n",
    "                  p.getQuaternionFromEuler([0, 0, 0]), useFixedBase=False)\n",
    "controller = motorController.MotorController(robot, physicsClient, fixedTimeStep, motor_kp, motor_kd, motor_torque, motor_max_velocity)\n"
   ]
  },
  {
   "cell_type": "code",
   "execution_count": 11,
   "metadata": {},
   "outputs": [],
   "source": [
    "walk = walkGenerator.WalkGenerator()\n",
    "walk.setWalkParameter(bodyMovePoint=8,\n",
    "                     legMovePoint=8,\n",
    "                     height=50,\n",
    "                     stride=90,\n",
    "                     sit=40,\n",
    "                     swayBody=30,\n",
    "                     swayFoot=0,\n",
    "                     bodyPositionForwardPlus=5,\n",
    "                     swayShift=3,\n",
    "                     liftPush=0.4,\n",
    "                     landPull=0.6,\n",
    "                     timeStep=0.06,\n",
    "                     damping=0.0,\n",
    "                     incline=0.0)\n",
    "walk.generate()\n",
    "walk.inverseKinematicsAll()"
   ]
  },
  {
   "cell_type": "code",
   "execution_count": 12,
   "metadata": {},
   "outputs": [],
   "source": [
    "actionTime = walk._timeStep\n",
    "p.setGravity(0, 0, -9.8)\n",
    "p.setRealTimeSimulation(0)\n",
    "controller.setMotorsAngleInFixedTimestep(walk.walkAnglesStartRight[0], 1, 0)"
   ]
  },
  {
   "cell_type": "code",
   "execution_count": 13,
   "metadata": {},
   "outputs": [],
   "source": [
    "waitTime = 1\n",
    "repeatTime = int(waitTime / fixedTimeStep)\n",
    "for _ in range(repeatTime):\n",
    "    p.stepSimulation()\n",
    "p.setGravity(0, 0, -9.8)"
   ]
  },
  {
   "cell_type": "code",
   "execution_count": 17,
   "metadata": {},
   "outputs": [],
   "source": [
    "for i in range(np.size(walk.walkAnglesStartRight, 0)):\n",
    "    controller.setMotorsAngleInFixedTimestep(walk.walkAnglesStartRight[0], actionTime, 0)\n",
    "\n",
    "for i in range(2):\n",
    "    #Left foot step\n",
    "    for i in range(np.size(walk.walkAnglesWalkingLeft, 0)):\n",
    "        controller.setMotorsAngleInFixedTimestep(walk.walkAnglesWalkingLeft[i], actionTime, 0)\n",
    "        \n",
    "    for i in range(np.size(walk.walkAnglesWalkingRight, 0)):\n",
    "        controller.setMotorsAngleInFixedTimestep(walk.walkAnglesWalkingRight[i], actionTime, 0)\n",
    "        \n",
    "#end of the walking. left\n",
    "for i in range(np.size(walk.walkAnglesEndLeft, 0)):\n",
    "    controller.setMotorsAngleInFixedTimestep(walk.walkAnglesEndLeft[i], actionTime, 0)\n",
    "    \n",
    "# rest for 2 second\n",
    "waitTime = 2\n",
    "repeatTime = int(waitTime / fixedTimeStep)\n",
    "for _ in range(repeatTime):\n",
    "    p.stepSimulation"
   ]
  },
  {
   "cell_type": "code",
   "execution_count": null,
   "metadata": {},
   "outputs": [],
   "source": []
  },
  {
   "cell_type": "code",
   "execution_count": null,
   "metadata": {},
   "outputs": [],
   "source": []
  },
  {
   "cell_type": "code",
   "execution_count": null,
   "metadata": {},
   "outputs": [],
   "source": []
  },
  {
   "cell_type": "code",
   "execution_count": null,
   "metadata": {},
   "outputs": [],
   "source": []
  }
 ],
 "metadata": {
  "kernelspec": {
   "display_name": "Python 3",
   "language": "python",
   "name": "python3"
  },
  "language_info": {
   "codemirror_mode": {
    "name": "ipython",
    "version": 3
   },
   "file_extension": ".py",
   "mimetype": "text/x-python",
   "name": "python",
   "nbconvert_exporter": "python",
   "pygments_lexer": "ipython3",
   "version": "3.7.6"
  }
 },
 "nbformat": 4,
 "nbformat_minor": 4
}
