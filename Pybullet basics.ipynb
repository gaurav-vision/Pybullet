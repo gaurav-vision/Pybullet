{
 "cells": [
  {
   "cell_type": "code",
   "execution_count": 1,
   "metadata": {},
   "outputs": [],
   "source": [
    "# Pybullet is open source physics engine. it work on client and server based API. "
   ]
  },
  {
   "cell_type": "code",
   "execution_count": 2,
   "metadata": {},
   "outputs": [],
   "source": [
    "import pybullet as p\n",
    "client  = p.connect(p.GUI)\n",
    "p.setGravity(0, 0, -10, physicsClientId=client)"
   ]
  },
  {
   "cell_type": "code",
   "execution_count": 3,
   "metadata": {},
   "outputs": [],
   "source": [
    "# Simulation start with client = p.connect(p.GUI)\n",
    "# p.GUI provides allowing the for visualization and debugging\n",
    "# Whereas p.DIRECT gives fast and non visual connection. Return value of p.connect will be integer. "
   ]
  },
  {
   "cell_type": "code",
   "execution_count": 4,
   "metadata": {},
   "outputs": [],
   "source": [
    "import pybullet_data\n",
    "p.setAdditionalSearchPath(pybullet_data.getDataPath())"
   ]
  },
  {
   "cell_type": "markdown",
   "metadata": {},
   "source": [
    "pybullet_data provide many example of universal robotics description format (URDF) files. URDF files\n",
    "describe the physical and visual characterstics of robots.\n",
    "\n",
    "the p.loadURDF() tells to the simulation to create a robot as specified in URDF files. return value will be an \n",
    "integer not a modifiable object. integer will be ID passed into the other function to query the state of the robot\n",
    " and perform action on it.\n"
   ]
  },
  {
   "cell_type": "code",
   "execution_count": 5,
   "metadata": {},
   "outputs": [],
   "source": [
    "carID = p.loadURDF(\"racecar/racecar.urdf\", basePosition=[0,0,0.2])"
   ]
  },
  {
   "cell_type": "code",
   "execution_count": 6,
   "metadata": {},
   "outputs": [],
   "source": [
    "position, orientation = p.getBasePositionAndOrientation(carID)"
   ]
  },
  {
   "cell_type": "code",
   "execution_count": 7,
   "metadata": {},
   "outputs": [],
   "source": [
    "for _ in range(100):\n",
    "    p.stepSimulation()"
   ]
  },
  {
   "cell_type": "code",
   "execution_count": 11,
   "metadata": {},
   "outputs": [],
   "source": [
    "for _ in range(300):\n",
    "    pos, ori = p.getBasePositionAndOrientation(carID)\n",
    "    p.applyExternalForce(carID, 0, [50, 0, 0], [70, 0, 0], p.WORLD_FRAME)\n",
    "    p.stepSimulation()"
   ]
  },
  {
   "cell_type": "code",
   "execution_count": 9,
   "metadata": {},
   "outputs": [],
   "source": [
    "#car will move forward normally"
   ]
  },
  {
   "cell_type": "code",
   "execution_count": null,
   "metadata": {},
   "outputs": [],
   "source": []
  }
 ],
 "metadata": {
  "kernelspec": {
   "display_name": "Python 3",
   "language": "python",
   "name": "python3"
  },
  "language_info": {
   "codemirror_mode": {
    "name": "ipython",
    "version": 3
   },
   "file_extension": ".py",
   "mimetype": "text/x-python",
   "name": "python",
   "nbconvert_exporter": "python",
   "pygments_lexer": "ipython3",
   "version": "3.7.6"
  }
 },
 "nbformat": 4,
 "nbformat_minor": 4
}
